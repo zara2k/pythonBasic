{
 "cells": [
  {
   "cell_type": "markdown",
   "metadata": {},
   "source": [
    "# <font color=\"red\">기본경로 설정</font>"
   ]
  },
  {
   "cell_type": "markdown",
   "metadata": {},
   "source": [
    "아나콘다 프롬프트에서 `config` 파일 생성코드 입력\n",
    "> (base) C:\\Users\\JWWXE> jupyter notebook --generate-config"
   ]
  },
  {
   "cell_type": "markdown",
   "metadata": {},
   "source": [
    "다음과 같이 결과가 커맨드 창에 출력되고 C:\\Users\\JWWXE\\.jupyter 폴더에 *`jupyter_notebook_config.py`* 파일 생성됨\n",
    ">Writing default config to: C:\\Users\\JWWXE\\.jupyter\\jupyter_notebook_config.py"
   ]
  },
  {
   "cell_type": "markdown",
   "metadata": {},
   "source": [
    "메모장에서 이 파일을 열고, **`'c.NotebookApp.notebook_dir'`** 항목을 찾아서 맨 앞의 '#' 지운 뒤, 경로 설정해줌\n",
    "> \\'## The directory to use for notebooks and kernels.\n",
    "\n",
    "> c.NotebookApp.notebook_dir = 'D:\\Dropbox\\R_Python\\Jupyter_zara'\n",
    "\n",
    "mac의 경우도,\n",
    "> c.NotebookApp.notebook_dir = '/Users/zarapro/Dropbox/R_Python'\n",
    "\n",
    "앞으로는 이 경로가 jupyter notebook의 기본 경로가 됨."
   ]
  },
  {
   "cell_type": "code",
   "execution_count": null,
   "metadata": {},
   "outputs": [],
   "source": []
  },
  {
   "cell_type": "markdown",
   "metadata": {},
   "source": [
    "# <font color=\"red\">Shell Commands `!`</font>\n",
    "https://www.dataquest.io/blog/advanced-jupyter-notebooks-tutorial/\n",
    "\n",
    "Every user will benefit at least from time-to-time from the ability to interact directly with the operating system from within their notebook. Any line in a code cell that you begin with an exclamation mark will be executed as a shell command. This can be useful when dealing with datasets or other files, and managing your Python packages. As a simple illustration:"
   ]
  },
  {
   "cell_type": "code",
   "execution_count": 1,
   "metadata": {
    "collapsed": true,
    "jupyter": {
     "outputs_hidden": true
    }
   },
   "outputs": [
    {
     "name": "stdout",
     "output_type": "stream",
     "text": [
      "\u001b[34mCrawling_groomEdu\u001b[m\u001b[m\n",
      "\u001b[34mMatlab_in_python\u001b[m\u001b[m\n",
      "\u001b[34mR_in_JupyterNotebook\u001b[m\u001b[m\n",
      "\u001b[34mSeverance\u001b[m\u001b[m\n",
      "\u001b[34mThinkPool_pythonAPItrading\u001b[m\u001b[m\n",
      "\u001b[34mThinkPool_pythonAPItrading_Darjeeling_20180603\u001b[m\u001b[m\n",
      "\u001b[34m_Book\u001b[m\u001b[m\n",
      "_Call MATLAB Script and Function from Python.ipynb\n",
      "_JupyterNotebook_Shortcut.pdf\n",
      "_JupyterNotebook_markdown_tips.ipynb\n",
      "_JupyterNotebook_기본경로 설정법.ipynb\n",
      "_JupyterNotebook_기본경로 설정법.pdf\n",
      "_Markdown_사용법 · GitHub.pdf\n",
      "\u001b[34mmymoneybot-ebest_20181210(V16)\u001b[m\u001b[m\n",
      "\u001b[34mpython_Basic\u001b[m\u001b[m\n",
      "\u001b[34mxingAPI설명서\u001b[m\u001b[m\n",
      "코스콤2019-1학기_금융분석프로그래밍_강의자료link.txt\n"
     ]
    }
   ],
   "source": [
    "!ls"
   ]
  },
  {
   "cell_type": "code",
   "execution_count": 2,
   "metadata": {},
   "outputs": [
    {
     "name": "stdout",
     "output_type": "stream",
     "text": [
      "/Users/zarambp13/Dropbox/R_Python\n"
     ]
    }
   ],
   "source": [
    "!pwd"
   ]
  },
  {
   "cell_type": "markdown",
   "metadata": {},
   "source": [
    "`!pip install [package]` "
   ]
  },
  {
   "cell_type": "markdown",
   "metadata": {},
   "source": [
    "# <font color=\"red\">Line magic command `%`</font>\n",
    "\n",
    "https://ipython.readthedocs.io/en/stable/interactive/magics.html#line-magics\n",
    "\n",
    "https://www.dataquest.io/blog/advanced-jupyter-notebooks-tutorial/\n",
    "\n",
    "* Magics are handy commands built into the IPython kernel that make it easier to perform particular tasks. \n",
    "* There are two categories of magic: line magics and cell magics. Respectively, they act on a single line or can be spread across multiple lines or entire cells.\n",
    "* To work properly, Magics must use a syntax element which is not valid in the underlying language. \n",
    "* For example, the IPython kernel uses the `%` syntax element for Magics as `%` is not a valid unary operator in Python. However, `%` might have meaning in other languages.\n"
   ]
  },
  {
   "cell_type": "markdown",
   "metadata": {},
   "source": [
    "`%conda` : Run the conda package manager within the current kernel.\n",
    "\n",
    "Usage:\n",
    "<pre><code>%conda install [pkgs]</pre></code>"
   ]
  },
  {
   "cell_type": "markdown",
   "metadata": {},
   "source": [
    "`%matplotlib inline`"
   ]
  },
  {
   "cell_type": "markdown",
   "metadata": {},
   "source": [
    "`%pip` : Run the pip package manager within the current kernel.\n",
    "\n",
    "Usage:\n",
    "<pre><code>%pip install [pkgs]</pre></code>"
   ]
  },
  {
   "cell_type": "code",
   "execution_count": 3,
   "metadata": {
    "collapsed": true,
    "jupyter": {
     "outputs_hidden": true
    }
   },
   "outputs": [
    {
     "name": "stdout",
     "output_type": "stream",
     "text": [
      "\u001b[34mCrawling_groomEdu\u001b[m\u001b[m/\n",
      "\u001b[34mMatlab_in_python\u001b[m\u001b[m/\n",
      "\u001b[34mR_in_JupyterNotebook\u001b[m\u001b[m/\n",
      "\u001b[34mSeverance\u001b[m\u001b[m/\n",
      "\u001b[34mThinkPool_pythonAPItrading\u001b[m\u001b[m/\n",
      "\u001b[34mThinkPool_pythonAPItrading_Darjeeling_20180603\u001b[m\u001b[m/\n",
      "\u001b[34m_Book\u001b[m\u001b[m/\n",
      "_Call MATLAB Script and Function from Python.ipynb\n",
      "_JupyterNotebook_Shortcut.pdf\n",
      "_JupyterNotebook_markdown_tips.ipynb\n",
      "_JupyterNotebook_기본경로 설정법.ipynb\n",
      "_JupyterNotebook_기본경로 설정법.pdf\n",
      "_Markdown_사용법 · GitHub.pdf\n",
      "\u001b[34mmymoneybot-ebest_20181210(V16)\u001b[m\u001b[m/\n",
      "\u001b[34mpython_Basic\u001b[m\u001b[m/\n",
      "\u001b[34mxingAPI설명서\u001b[m\u001b[m/\n",
      "코스콤2019-1학기_금융분석프로그래밍_강의자료link.txt\n"
     ]
    }
   ],
   "source": [
    "%ls"
   ]
  },
  {
   "cell_type": "markdown",
   "metadata": {},
   "source": [
    "# <font color=\"red\">Cell magic command `%%`</font>\n",
    "\n",
    "https://ipython.readthedocs.io/en/stable/interactive/magics.html#line-magics\n",
    "\n",
    "https://www.dataquest.io/blog/advanced-jupyter-notebooks-tutorial/"
   ]
  },
  {
   "cell_type": "code",
   "execution_count": 9,
   "metadata": {},
   "outputs": [
    {
     "data": {
      "text/latex": [
       "Some important equations:$E = mc^2$\n",
       "$e^{i \\pi} = -1$\n",
       "$$ y = Ax+ \\epsilon$$\n",
       "\n",
       "\\begin{eqnarray}\n",
       "y = Ax+ \\epsilon \\\\\n",
       "y2 = Ax+ \\epsilon\n",
       "\\end{eqnarray}\n"
      ],
      "text/plain": [
       "<IPython.core.display.Latex object>"
      ]
     },
     "metadata": {},
     "output_type": "display_data"
    }
   ],
   "source": [
    "%%latex\n",
    "Some important equations:$E = mc^2$\n",
    "$e^{i \\pi} = -1$\n",
    "$$ y = Ax+ \\epsilon$$\n",
    "\n",
    "\\begin{eqnarray}\n",
    "y = Ax+ \\epsilon \\\\\n",
    "y2 = Ax+ \\epsilon\n",
    "\\end{eqnarray}"
   ]
  },
  {
   "cell_type": "markdown",
   "metadata": {},
   "source": [
    "-----\n",
    "as a markdown\n",
    "\n",
    "$e^{i \\pi} = -1$\n",
    "$$ y = Ax+ \\epsilon$$\n",
    "\n",
    "\\begin{eqnarray}\n",
    "y = Ax+ \\epsilon \\\\\n",
    "y2 = Ax+ \\epsilon\n",
    "\\end{eqnarray}"
   ]
  },
  {
   "cell_type": "markdown",
   "metadata": {},
   "source": [
    "### Markdown\n",
    " - 문서의 구조와 내용을 한번에 정의 \n",
    " - 코드를 설명하거나 노트북 파일에 이론적 배경 설명을 위해 사용\n",
    " - [마크다운 참고 사이트](https://github.com/adam-p/markdown-here/wiki/Markdown-Cheatsheet)"
   ]
  },
  {
   "cell_type": "markdown",
   "metadata": {},
   "source": [
    "# <font color=\"red\">Insert figures</font>"
   ]
  },
  {
   "cell_type": "markdown",
   "metadata": {},
   "source": [
    "<img src=\"http://hilpisch.com/tpq_logo.png\" alt=\"The Python Quants\" width=\"35%\" align=\"right\" border=\"0\"><br>"
   ]
  },
  {
   "cell_type": "markdown",
   "metadata": {},
   "source": [
    "# Python for Finance (2nd ed.)\n",
    "\n",
    "**Mastering Data-Driven Finance**\n",
    "\n",
    "&copy; Dr. Yves J. Hilpisch | The Python Quants GmbH\n",
    "\n",
    "<img src=\"http://hilpisch.com/images/py4fi_2nd_shadow.png\" width=\"300px\" align=\"left\">"
   ]
  },
  {
   "cell_type": "markdown",
   "metadata": {},
   "source": [
    "--- \n",
    " * 이것은 로컬 이미지\n",
    "<!-- ![python image](00_Images/python-logo.png) -->\n",
    "![python image](./python_Basic/study_figures/class_jump2python.png)\n",
    "\n",
    "---\n",
    " * 이것은 웹 이미지\n",
    "![python image2](https://www.raspberrypi.org/documentation/usage/python/images/python-logo.png)"
   ]
  },
  {
   "cell_type": "markdown",
   "metadata": {},
   "source": [
    "# <font color=\"red\">줄 번호 넣기</font>\n",
    "마우스로 블록 선택 후, 키보드 'L' 버튼 누르면 끝."
   ]
  },
  {
   "cell_type": "markdown",
   "metadata": {},
   "source": [
    "# Reference index"
   ]
  },
  {
   "cell_type": "code",
   "execution_count": null,
   "metadata": {},
   "outputs": [],
   "source": []
  },
  {
   "cell_type": "markdown",
   "metadata": {},
   "source": [
    "# Python with jupyter notebook"
   ]
  },
  {
   "cell_type": "markdown",
   "metadata": {},
   "source": [
    "> this is blockCode\n",
    ">>this is second block\n",
    ">>>third?"
   ]
  },
  {
   "cell_type": "markdown",
   "metadata": {},
   "source": [
    ">Example of block\n",
    "* a list is \n",
    ">>    - here is "
   ]
  },
  {
   "cell_type": "markdown",
   "metadata": {},
   "source": [
    "# Python language\n",
    "## introduction to python\n",
    "### variable\n",
    "\n",
    "* python language\n",
    "  * java language \n",
    "  * c++ \n",
    "  * c#\n",
    "* python 1\n",
    "    * sub tel\n",
    "* python 2"
   ]
  },
  {
   "cell_type": "markdown",
   "metadata": {},
   "source": []
  },
  {
   "cell_type": "markdown",
   "metadata": {},
   "source": [
    "#### Markdown practice"
   ]
  },
  {
   "cell_type": "markdown",
   "metadata": {},
   "source": [
    "# Hello markdown1\n",
    "## Hello markdown2\n",
    "### Hello markdown3\n",
    "#### Hello markdown4\n",
    "\n",
    "* python 2.7\n",
    "* python 3.5\n",
    "\n",
    "```python\n",
    "s = \"Python syntax highlighting\"\n",
    "print s\n",
    "def add(a, b):\n",
    "    return a + b\n",
    "```\n",
    "\n",
    "> Blockquotes starts\n",
    "> This line is part of the same quote.\n",
    "\n",
    "> Good\n",
    "\n",
    "\n",
    "\n",
    "This is *python*   \\*python*\n",
    "\n",
    "This is **python**     \\*\\*python**\n",
    "\n",
    "This is python\n",
    "\n",
    "[python webpage](https://www.python.org)\n",
    "\n",
    "[google page](https://google.com)"
   ]
  },
  {
   "cell_type": "markdown",
   "metadata": {},
   "source": [
    "# <font color=\"red\">표 만들기</font>\n",
    "컬럼제목1 | 컬럼제목2 | 컬럼끝\n",
    "-----|-----|----\n",
    "내용1|내용2|내용끝"
   ]
  },
  {
   "cell_type": "markdown",
   "metadata": {},
   "source": [
    "# <font color=\"red\">수식 넣기</font>\n",
    "\n",
    "$$ \\alpha_t = \\beta_1 \\times X_t + \\epsilon_t $$"
   ]
  },
  {
   "cell_type": "markdown",
   "metadata": {},
   "source": [
    "## <font color=\"red\">음영으로 강조하기</font>"
   ]
  },
  {
   "cell_type": "markdown",
   "metadata": {},
   "source": [
    "강조를 위한 *`문법`* 이 어떠"
   ]
  },
  {
   "cell_type": "markdown",
   "metadata": {},
   "source": [
    "강조를 위한 `문법` 이 어떠"
   ]
  },
  {
   "cell_type": "markdown",
   "metadata": {},
   "source": [
    "강조를 위한 **`문법`** 이 어떠"
   ]
  }
 ],
 "metadata": {
  "kernelspec": {
   "display_name": "Python 3",
   "language": "python",
   "name": "python3"
  },
  "language_info": {
   "codemirror_mode": {
    "name": "ipython",
    "version": 3
   },
   "file_extension": ".py",
   "mimetype": "text/x-python",
   "name": "python",
   "nbconvert_exporter": "python",
   "pygments_lexer": "ipython3",
   "version": "3.7.4"
  }
 },
 "nbformat": 4,
 "nbformat_minor": 4
}
